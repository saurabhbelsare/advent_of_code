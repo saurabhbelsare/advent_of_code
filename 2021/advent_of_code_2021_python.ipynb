{
 "cells": [
  {
   "cell_type": "markdown",
   "id": "bc5059db-cc32-493c-8cbd-717b9bbfc661",
   "metadata": {},
   "source": [
    "### These are my solutions for advent of code 2020\n",
    "https://adventofcode.com/2021"
   ]
  },
  {
   "cell_type": "code",
   "execution_count": 2,
   "id": "d6eb07e4-adff-4f6e-afee-ef664ce06d25",
   "metadata": {},
   "outputs": [],
   "source": [
    "import numpy as np\n",
    "import sys\n",
    "import matplotlib.pyplot as plt\n",
    "import tqdm"
   ]
  },
  {
   "cell_type": "code",
   "execution_count": 2,
   "id": "f7128dce-fb2c-4a28-9a96-f24f7841db1e",
   "metadata": {},
   "outputs": [
    {
     "name": "stdout",
     "output_type": "stream",
     "text": [
      "1602\n",
      "CPU times: user 8.9 ms, sys: 618 µs, total: 9.51 ms\n",
      "Wall time: 19.5 ms\n"
     ]
    }
   ],
   "source": [
    "%%time\n",
    "# Day 1: Sonar Sweep - Part 1\n",
    "\n",
    "with open('sonar_data.txt', 'r') as f_read:\n",
    "    depth_readings = np.loadtxt(f_read, dtype='int')\n",
    "    \n",
    "depth_differences = np.diff(depth_readings)\n",
    "num_increases = np.sum(depth_differences > 0)\n",
    "\n",
    "print(num_increases)"
   ]
  },
  {
   "cell_type": "code",
   "execution_count": 3,
   "id": "7adba3c2-36db-4492-bf05-a890ee5531d6",
   "metadata": {},
   "outputs": [
    {
     "name": "stdout",
     "output_type": "stream",
     "text": [
      "1633\n",
      "CPU times: user 11 ms, sys: 1.83 ms, total: 12.9 ms\n",
      "Wall time: 15.7 ms\n"
     ]
    }
   ],
   "source": [
    "%%time\n",
    "# Day 1: Sonar Sweep - Part 2\n",
    "\n",
    "with open('sonar_data.txt', 'r') as f_read:\n",
    "    depth_readings = np.loadtxt(f_read, dtype='int')\n",
    "\n",
    "depth_averaged = np.array([sum(depth_readings[i:i+3]) for i in range(len(depth_readings))])\n",
    "depth_differences = np.diff(depth_averaged)\n",
    "num_increases = np.sum(depth_differences > 0)\n",
    "\n",
    "print(num_increases)"
   ]
  },
  {
   "cell_type": "code",
   "execution_count": 4,
   "id": "60ec0dd4-9a42-4f9e-8988-b805fe30dd8b",
   "metadata": {},
   "outputs": [
    {
     "name": "stdout",
     "output_type": "stream",
     "text": [
      "1670340\n",
      "CPU times: user 4.21 ms, sys: 2.99 ms, total: 7.2 ms\n",
      "Wall time: 9.98 ms\n"
     ]
    }
   ],
   "source": [
    "%%time\n",
    "# Day 2: Dive! - Part 1\n",
    "\n",
    "def get_final_position(dive_instructions, dive_distances):\n",
    "    x = 0\n",
    "    y = 0\n",
    "    for i in range(len(dive_instructions)):\n",
    "        if dive_instructions[i] == 'down':\n",
    "            y += dive_distances[i]\n",
    "        elif dive_instructions[i] == 'up':\n",
    "            y -= dive_distances[i]\n",
    "        elif dive_instructions[i] == 'forward':\n",
    "            x += dive_distances[i]\n",
    "        else:\n",
    "            raise ValueError('Incorrect instruction')\n",
    "\n",
    "    return x, y\n",
    "\n",
    "dive_instructions = []\n",
    "dive_distances = []\n",
    "with open('dive.txt', 'r') as f_read:\n",
    "    for line in f_read:\n",
    "        dive_instructions.append(line.split()[0])\n",
    "        dive_distances.append(int(line.split()[1]))\n",
    "\n",
    "x, y = get_final_position(dive_instructions, dive_distances)\n",
    "print(x * y)"
   ]
  },
  {
   "cell_type": "code",
   "execution_count": 5,
   "id": "1a1d1af0-3246-4fe2-840b-b596bcba70ce",
   "metadata": {},
   "outputs": [
    {
     "name": "stdout",
     "output_type": "stream",
     "text": [
      "1954293920\n",
      "CPU times: user 3.89 ms, sys: 2.96 ms, total: 6.86 ms\n",
      "Wall time: 11.3 ms\n"
     ]
    }
   ],
   "source": [
    "%%time\n",
    "# Day 2: Dive! - Part 2\n",
    "\n",
    "def get_final_position_aim(dive_instructions, dive_distances):\n",
    "    x = 0\n",
    "    y = 0\n",
    "    aim = 0\n",
    "    for i in range(len(dive_instructions)):\n",
    "        if dive_instructions[i] == 'down':\n",
    "            aim += dive_distances[i]\n",
    "        elif dive_instructions[i] == 'up':\n",
    "            aim -= dive_distances[i]\n",
    "        elif dive_instructions[i] == 'forward':\n",
    "            x += dive_distances[i]\n",
    "            y += aim * dive_distances[i]\n",
    "        else:\n",
    "            raise ValueError('Incorrect instruction')\n",
    "\n",
    "    return x, y\n",
    "\n",
    "dive_instructions = []\n",
    "dive_distances = []\n",
    "with open('dive.txt', 'r') as f_read:\n",
    "    for line in f_read:\n",
    "        dive_instructions.append(line.split()[0])\n",
    "        dive_distances.append(int(line.split()[1]))\n",
    "\n",
    "x, y = get_final_position_aim(dive_instructions, dive_distances)\n",
    "print(x * y)"
   ]
  },
  {
   "cell_type": "code",
   "execution_count": 6,
   "id": "dee57a3f-7ef0-49f0-8a1d-7c939927bf87",
   "metadata": {},
   "outputs": [
    {
     "name": "stdout",
     "output_type": "stream",
     "text": [
      "3958484\n",
      "CPU times: user 10 ms, sys: 3.44 ms, total: 13.5 ms\n",
      "Wall time: 17.5 ms\n"
     ]
    }
   ],
   "source": [
    "%%time\n",
    "# Day 3: Binary Diagnostic - Part 1\n",
    "\n",
    "diagnostic_report = []\n",
    "with open('diagnostic_report.txt', 'r') as f_read:\n",
    "    for line in f_read:\n",
    "        diagnostic_value = [int(i) for i in list(line.rstrip())]\n",
    "        diagnostic_report.append(diagnostic_value)\n",
    "    \n",
    "gamma_binary = np.array(diagnostic_report).mean(axis=0).round()\n",
    "epsilon_binary = 1 - np.array(diagnostic_report).mean(axis=0).round()\n",
    "gamma = np.sum(np.power(2, np.arange(len(gamma_binary))[::-1]) * gamma_binary)\n",
    "epsilon = np.sum(np.power(2, np.arange(len(epsilon_binary))[::-1]) * epsilon_binary)\n",
    "print(int(gamma * epsilon))"
   ]
  },
  {
   "cell_type": "code",
   "execution_count": 7,
   "id": "6e18daf0-3d99-4310-8a88-45e19333f5f9",
   "metadata": {},
   "outputs": [
    {
     "name": "stdout",
     "output_type": "stream",
     "text": [
      "1613181\n",
      "CPU times: user 13.3 ms, sys: 1.87 ms, total: 15.2 ms\n",
      "Wall time: 19.2 ms\n"
     ]
    }
   ],
   "source": [
    "%%time\n",
    "# Day 3: Binary Diagnostic - Part 2\n",
    "\n",
    "diagnostic_report = []\n",
    "with open('diagnostic_report.txt', 'r') as f_read:\n",
    "    for line in f_read:\n",
    "        diagnostic_value = [int(i) for i in list(line.rstrip())]\n",
    "        diagnostic_report.append(diagnostic_value)\n",
    "\n",
    "diagnostic_report_array = np.array(diagnostic_report)\n",
    "\n",
    "common_positions = np.arange(diagnostic_report_array.shape[0])\n",
    "for i in range(diagnostic_report_array.shape[1]):\n",
    "    values, counts = np.unique(diagnostic_report_array[common_positions,i], return_counts=True)\n",
    "    if counts[0] == counts[1]:\n",
    "        common_value = 1\n",
    "    else:\n",
    "        common_value = values[np.where(counts == np.max(counts))[0]][0]\n",
    "    new_common_positions = np.where(diagnostic_report_array[:,i] == common_value)[0]\n",
    "    common_positions = np.intersect1d(common_positions, new_common_positions)\n",
    "    if len(common_positions) == 1:\n",
    "        break\n",
    "    \n",
    "rare_positions = np.arange(diagnostic_report_array.shape[0])\n",
    "for i in range(diagnostic_report_array.shape[1]):\n",
    "    values, counts = np.unique(diagnostic_report_array[rare_positions,i], return_counts=True)\n",
    "    if counts[0] == counts[1]:\n",
    "        rare_value = 0\n",
    "    else:\n",
    "        rare_value = values[np.where(counts == np.min(counts))[0]][0]\n",
    "    new_rare_positions = np.where(diagnostic_report_array[:,i] == rare_value)[0]\n",
    "    rare_positions = np.intersect1d(rare_positions, new_rare_positions)\n",
    "    if len(rare_positions) == 1:\n",
    "        break\n",
    "    \n",
    "oxygen_generator_binary = diagnostic_report_array[common_positions][0]\n",
    "co2_scrubber_binary = diagnostic_report_array[rare_positions][0]\n",
    "oxygen_generator = np.sum(np.power(2, np.arange(len(oxygen_generator_binary))[::-1]) * oxygen_generator_binary)\n",
    "co2_scrubber = np.sum(np.power(2, np.arange(len(co2_scrubber_binary))[::-1]) * co2_scrubber_binary)\n",
    "print(int(oxygen_generator * co2_scrubber)) "
   ]
  },
  {
   "cell_type": "code",
   "execution_count": 8,
   "id": "a3be24d7-c0a6-45f7-a583-33586e146091",
   "metadata": {},
   "outputs": [
    {
     "name": "stdout",
     "output_type": "stream",
     "text": [
      "49860\n",
      "CPU times: user 25.7 ms, sys: 3.82 ms, total: 29.6 ms\n",
      "Wall time: 40.9 ms\n"
     ]
    }
   ],
   "source": [
    "%%time\n",
    "# Day 4: Giant Squid - Part 1\n",
    "\n",
    "bingo_boards = []\n",
    "bingo_call_boards = []\n",
    "i = 0\n",
    "with open('bingo_input.txt', 'r') as f_read:\n",
    "    drawn_numbers = np.array(f_read.readline().split(','), dtype='int')\n",
    "    for line in f_read:\n",
    "        if len(line.split()) == 0:\n",
    "            i = 0\n",
    "            bingo_board = np.zeros((5,5))\n",
    "            bingo_call_board = np.zeros((5,5), dtype='bool')\n",
    "        else:\n",
    "            bingo_board[i,:] = np.array(line.split(), dtype='int')\n",
    "            i += 1\n",
    "            if i == 4:\n",
    "                bingo_boards.append(bingo_board)\n",
    "                bingo_call_boards.append(bingo_call_board)\n",
    "\n",
    "def run_bingo(drawn_numbers, bingo_boards, bingo_call_boards):\n",
    "    for drawn_num in drawn_numbers:\n",
    "        for i in range(len(bingo_boards)):\n",
    "            match_pos = np.where(bingo_boards[i] == drawn_num)\n",
    "            if match_pos[0].size != 0:\n",
    "                bingo_call_boards[i][match_pos[0][0], match_pos[1][0]] = True\n",
    "                vertical_sums = np.sum(bingo_call_boards[i], axis=0)\n",
    "                horizontal_sums = np.sum(bingo_call_boards[i], axis=1)\n",
    "                if 5. in vertical_sums or 5. in horizontal_sums:\n",
    "                    return drawn_num, i\n",
    "\n",
    "drawn_num, i = run_bingo(drawn_numbers, bingo_boards, bingo_call_boards)\n",
    "sum_unmarked_numbers = np.sum(bingo_boards[i][np.invert(bingo_call_boards[i])])\n",
    "print(int(drawn_num * sum_unmarked_numbers))"
   ]
  },
  {
   "cell_type": "code",
   "execution_count": 9,
   "id": "8974b607-5caa-4d99-b4f1-cd8d29d7c442",
   "metadata": {},
   "outputs": [
    {
     "name": "stdout",
     "output_type": "stream",
     "text": [
      "24628\n",
      "CPU times: user 160 ms, sys: 6.49 ms, total: 166 ms\n",
      "Wall time: 176 ms\n"
     ]
    }
   ],
   "source": [
    "%%time\n",
    "# Day 4: Giant Squid - Part 2\n",
    "\n",
    "bingo_boards = []\n",
    "bingo_call_boards = []\n",
    "i = 0\n",
    "with open('bingo_input.txt', 'r') as f_read:\n",
    "    drawn_numbers = np.array(f_read.readline().split(','), dtype='int')\n",
    "    for line in f_read:\n",
    "        if len(line.split()) == 0:\n",
    "            i = 0\n",
    "            bingo_board = np.zeros((5,5))\n",
    "            bingo_call_board = np.zeros((5,5), dtype='bool')\n",
    "        else:\n",
    "            bingo_board[i,:] = np.array(line.split(), dtype='int')\n",
    "            i += 1\n",
    "            if i == 4:\n",
    "                bingo_boards.append(bingo_board)\n",
    "                bingo_call_boards.append(bingo_call_board)\n",
    "\n",
    "def run_bingo_losing(drawn_numbers, bingo_boards, bingo_call_boards):\n",
    "    winning_boards = []\n",
    "    for drawn_num in drawn_numbers:\n",
    "        for i in range(len(bingo_boards)):\n",
    "            match_pos = np.where(bingo_boards[i] == drawn_num)\n",
    "            if match_pos[0].size != 0:\n",
    "                bingo_call_boards[i][match_pos[0][0], match_pos[1][0]] = True\n",
    "                vertical_sums = np.sum(bingo_call_boards[i], axis=0)\n",
    "                horizontal_sums = np.sum(bingo_call_boards[i], axis=1)\n",
    "                if 5. in vertical_sums or 5. in horizontal_sums:\n",
    "                    winning_boards.append(i)\n",
    "                    if len(np.unique(winning_boards)) == len(bingo_boards) - 1:\n",
    "                        return drawn_num, np.unique(winning_boards)\n",
    "\n",
    "drawn_num, winning_boards = run_bingo_losing(drawn_numbers, bingo_boards, bingo_call_boards)\n",
    "losing_board = np.setdiff1d(np.arange(len(bingo_boards)), winning_boards)[0]\n",
    "losing_number = drawn_numbers[np.where(drawn_numbers == drawn_num)[0][0] + 1]\n",
    "sum_unmarked_numbers = np.sum(bingo_boards[losing_board][np.invert(bingo_call_boards[losing_board])]) - drawn_num - losing_number\n",
    "print(int(losing_number * sum_unmarked_numbers))"
   ]
  },
  {
   "cell_type": "code",
   "execution_count": 10,
   "id": "68b5ece7-0c86-45c8-a8d8-2fb1dcda4033",
   "metadata": {},
   "outputs": [
    {
     "name": "stdout",
     "output_type": "stream",
     "text": [
      "6283\n",
      "CPU times: user 15.3 ms, sys: 6.43 ms, total: 21.7 ms\n",
      "Wall time: 28.5 ms\n"
     ]
    }
   ],
   "source": [
    "%%time\n",
    "# Day 5: Hydrothermal Venture - Part 1\n",
    "\n",
    "start_x_array_straight, end_x_array_straight, start_y_array_straight, end_y_array_straight = ([], [], [], [])\n",
    "with open('hydrothermal_vents.txt', 'r') as f_read:\n",
    "    for line in f_read:\n",
    "        start_x = int(line.split(' -> ')[0].split(',')[0])\n",
    "        end_x  = int(line.split(' -> ')[1].split(',')[0])\n",
    "        start_y = int(line.split(' -> ')[0].split(',')[1])\n",
    "        end_y = int(line.split(' -> ')[1].split(',')[1])\n",
    "        if start_x == end_x or start_y == end_y:\n",
    "            start_x_array_straight.append(start_x)\n",
    "            end_x_array_straight.append(end_x)\n",
    "            start_y_array_straight.append(start_y)\n",
    "            end_y_array_straight.append(end_y)\n",
    "\n",
    "vent_counts = np.zeros((max(start_x_array_straight + end_x_array_straight) + 1, max(start_y_array_straight + end_y_array_straight) + 1))\n",
    "for i in range(len(start_x_array_straight)):\n",
    "    if start_x_array_straight[i] == end_x_array_straight[i]:\n",
    "        vent_counts[min(start_y_array_straight[i],end_y_array_straight[i]):max(start_y_array_straight[i],end_y_array_straight[i])+1, start_x_array_straight[i]] += 1\n",
    "    elif start_y_array_straight[i] == end_y_array_straight[i]:\n",
    "        vent_counts[start_y_array_straight[i], min(start_x_array_straight[i], end_x_array_straight[i]):max(start_x_array_straight[i], end_x_array_straight[i])+1] += 1\n",
    "\n",
    "print(np.sum(vent_counts > 1))"
   ]
  },
  {
   "cell_type": "code",
   "execution_count": 11,
   "id": "172e8283-204f-449c-8623-d454bc470fc5",
   "metadata": {},
   "outputs": [
    {
     "name": "stdout",
     "output_type": "stream",
     "text": [
      "18864\n",
      "CPU times: user 143 ms, sys: 9.17 ms, total: 152 ms\n",
      "Wall time: 171 ms\n"
     ]
    }
   ],
   "source": [
    "%%time\n",
    "# Day 5: Hydrothermal Venture - Part 1\n",
    "\n",
    "start_x_array, end_x_array, start_y_array, end_y_array = ([], [], [], [])\n",
    "with open('hydrothermal_vents.txt', 'r') as f_read:\n",
    "    for line in f_read:\n",
    "        start_x = int(line.split(' -> ')[0].split(',')[0])\n",
    "        end_x  = int(line.split(' -> ')[1].split(',')[0])\n",
    "        start_y = int(line.split(' -> ')[0].split(',')[1])\n",
    "        end_y = int(line.split(' -> ')[1].split(',')[1])\n",
    "        start_x_array.append(start_x)\n",
    "        end_x_array.append(end_x)\n",
    "        start_y_array.append(start_y)\n",
    "        end_y_array.append(end_y)\n",
    "\n",
    "vent_counts = np.zeros((max(start_x_array + end_x_array) + 1, max(start_y_array + end_y_array) + 1))\n",
    "for i in range(len(start_x_array)):\n",
    "    if start_x_array[i] == end_x_array[i]:\n",
    "        vent_counts[min(start_y_array[i],end_y_array[i]):max(start_y_array[i],end_y_array[i])+1, start_x_array[i]] += 1\n",
    "    elif start_y_array[i] == end_y_array[i]:\n",
    "        vent_counts[start_y_array[i], min(start_x_array[i], end_x_array[i]):max(start_x_array[i], end_x_array[i])+1] += 1\n",
    "    else:\n",
    "        points = np.linspace((start_x_array[i], start_y_array[i]), (end_x_array[i], end_y_array[i]), \n",
    "                             max(start_y_array[i],end_y_array[i])-min(start_y_array[i],end_y_array[i])+1, \n",
    "                             dtype='int')\n",
    "        for point in points:\n",
    "            vent_counts[point[1], point[0]] += 1\n",
    "\n",
    "print(np.sum(vent_counts > 1))"
   ]
  },
  {
   "cell_type": "code",
   "execution_count": 12,
   "id": "d2351804-beb2-4430-8263-a9a4ebda1f99",
   "metadata": {},
   "outputs": [
    {
     "name": "stdout",
     "output_type": "stream",
     "text": [
      "346063\n",
      "CPU times: user 413 ms, sys: 39.8 ms, total: 453 ms\n",
      "Wall time: 499 ms\n"
     ]
    }
   ],
   "source": [
    "%%time\n",
    "# Day 6: Lanternfish - Part 1 -> This is the naive approach that doesn't scale to part 2\n",
    "\n",
    "num_days = 80\n",
    "\n",
    "with open('lanternfish_states.txt', 'r') as f_read:\n",
    "    line = f_read.readline()\n",
    "    lanternfish_states_str = line.rstrip().split(',')\n",
    "\n",
    "lanternfish_states = [int(i) for i in lanternfish_states_str]\n",
    "        \n",
    "for j in range(num_days):\n",
    "    lanternfish_states_array = np.array(lanternfish_states)\n",
    "    lanternfish_states_array -= 1\n",
    "    num_updates = np.sum(lanternfish_states_array == -1)\n",
    "    lanternfish_states_array[lanternfish_states_array == -1] = 6\n",
    "    lanternfish_states = list(lanternfish_states_array)\n",
    "    lanternfish_states.extend([8]*num_updates)\n",
    "\n",
    "print(len(lanternfish_states))   "
   ]
  },
  {
   "cell_type": "code",
   "execution_count": 13,
   "id": "b3347db3-957c-41ea-995f-2525e9e707cc",
   "metadata": {},
   "outputs": [
    {
     "name": "stdout",
     "output_type": "stream",
     "text": [
      "1572358335990\n",
      "CPU times: user 5.49 ms, sys: 4.57 ms, total: 10.1 ms\n",
      "Wall time: 23.1 ms\n"
     ]
    }
   ],
   "source": [
    "%%time\n",
    "# Day 6: Lanternfish - Part 2 -> Concept adapted from Jasmine Hughes' solution\n",
    "\n",
    "num_days = 256\n",
    "max_rep_time = 9\n",
    "second_rep_time = 7\n",
    "\n",
    "with open('lanternfish_states.txt', 'r') as f_read:\n",
    "    line = f_read.readline()\n",
    "    lanternfish_states_str = line.rstrip().split(',')\n",
    "\n",
    "lanternfish_states = [int(i) for i in lanternfish_states_str]\n",
    "\n",
    "ages = np.zeros(max_rep_time, dtype='int')\n",
    "for i in lanternfish_states:\n",
    "    ages[i] += 1\n",
    "    \n",
    "for i in range(num_days):\n",
    "    num_updates = ages[0]\n",
    "    ages[0:max_rep_time - 1] = ages[1:max_rep_time]\n",
    "    ages[max_rep_time - 1] = num_updates\n",
    "    ages[second_rep_time - 1] += num_updates\n",
    "    \n",
    "print(sum(ages))"
   ]
  },
  {
   "cell_type": "code",
   "execution_count": 14,
   "id": "ed7712b7-09a0-4a33-a975-5deead57c8ce",
   "metadata": {},
   "outputs": [
    {
     "name": "stdout",
     "output_type": "stream",
     "text": [
      "37\n",
      "CPU times: user 1.63 ms, sys: 2.18 ms, total: 3.82 ms\n",
      "Wall time: 5.68 ms\n"
     ]
    }
   ],
   "source": [
    "%%time\n",
    "# Day 7: The Trecheary of Whales - Part 1\n",
    "\n",
    "with open('crab_positions_test.txt', 'r') as f_read:\n",
    "    crab_positions = f_read.readline().rstrip().split(',')\n",
    "    crab_positions = np.array(crab_positions, dtype='int')\n",
    "\n",
    "print(np.sum(np.abs(crab_positions - np.median(crab_positions)), dtype='int'))"
   ]
  },
  {
   "cell_type": "code",
   "execution_count": 15,
   "id": "999d2183-1b3b-4fc5-a74b-7c6b556221e2",
   "metadata": {},
   "outputs": [
    {
     "name": "stdout",
     "output_type": "stream",
     "text": [
      "87640209\n",
      "CPU times: user 46.3 ms, sys: 3.82 ms, total: 50.1 ms\n",
      "Wall time: 60.3 ms\n"
     ]
    }
   ],
   "source": [
    "%%time\n",
    "# Day 7: The Trecheary of Whales - Part 2\n",
    "\n",
    "with open('crab_positions.txt', 'r') as f_read:\n",
    "    crab_positions = f_read.readline().rstrip().split(',')\n",
    "    crab_positions = np.array(crab_positions, dtype='int')\n",
    "\n",
    "fuels = []\n",
    "for i in range(min(crab_positions), max(crab_positions)):\n",
    "    diffs = np.abs(crab_positions - i)\n",
    "    fuel = np.sum(diffs * (diffs+1) / 2)\n",
    "    fuels.append(fuel)\n",
    "    \n",
    "print(int(np.min(fuels)))"
   ]
  },
  {
   "cell_type": "code",
   "execution_count": 35,
   "id": "0926fca8-3153-4839-a315-8d8e05d55634",
   "metadata": {},
   "outputs": [
    {
     "name": "stdout",
     "output_type": "stream",
     "text": [
      "543\n",
      "CPU times: user 4.1 ms, sys: 4.2 ms, total: 8.3 ms\n",
      "Wall time: 7.94 ms\n"
     ]
    }
   ],
   "source": [
    "%%time\n",
    "# Day 8: Seven Segment Search - Part 1 \n",
    "\n",
    "digits_segments_dir = {0:6, 1:2, 2:5, 3:5, 4:4, 5:5, 6:6, 7:3, 8:7, 9:6}\n",
    "\n",
    "inputs = []\n",
    "outputs = []\n",
    "output_lengths = []\n",
    "with open('seven_segment.txt', 'r') as f_read:\n",
    "    for line in f_read:\n",
    "        line_split = line.rstrip().split()\n",
    "        break_index = line_split.index('|')\n",
    "        inputs.append(line_split[:break_index])\n",
    "        out_len = []\n",
    "        outputs.append(line_split[break_index+1:])\n",
    "        for signal in line_split[break_index+1:]:\n",
    "            out_len.append(len(signal))\n",
    "        output_lengths.append(out_len)\n",
    "\n",
    "num_counts = np.zeros(len(digits_segments_dir), dtype='int')\n",
    "for i in [1, 4, 7, 8]:\n",
    "    num_counts[i] = np.sum(np.array(output_lengths) == digits_segments_dir[i])\n",
    "print(np.sum(num_counts))"
   ]
  },
  {
   "cell_type": "code",
   "execution_count": 176,
   "id": "55c8ec25-a9ca-4078-b164-2d8ca87d6cd0",
   "metadata": {},
   "outputs": [
    {
     "name": "stdout",
     "output_type": "stream",
     "text": [
      "994266\n",
      "CPU times: user 44.5 ms, sys: 3.38 ms, total: 47.9 ms\n",
      "Wall time: 58.8 ms\n"
     ]
    }
   ],
   "source": [
    "%%time\n",
    "# Day 8: Seven Segment Search - Part 1 \n",
    "\n",
    "digits_segments_dir = {0:6, 1:2, 2:5, 3:5, 4:4, 5:5, 6:6, 7:3, 8:7, 9:6}\n",
    "\n",
    "def get_segments(inp):\n",
    "    segments = np.repeat('x', 7)\n",
    "    input_lengths = np.zeros(len(inp), dtype='int')\n",
    "    for i in range(len(inp)):\n",
    "        input_lengths[i] = len(inp[i])\n",
    "    \n",
    "    one = set(inp[np.where(input_lengths == 2)[0][0]])\n",
    "    four = set(inp[np.where(input_lengths == 4)[0][0]])\n",
    "    seven = set(inp[np.where(input_lengths == 3)[0][0]])\n",
    "    eight = set(inp[np.where(input_lengths == 7)[0][0]])\n",
    "    segments[0] = list(seven - one)[0]\n",
    "    \n",
    "    five_char = [inp[i] for i in np.where(input_lengths == 5)[0]]\n",
    "    diff = np.zeros(3, dtype='int')\n",
    "    diff[0] = len(set(five_char[1]) - set(five_char[2]))\n",
    "    diff[1] = len(set(five_char[0]) - set(five_char[2]))\n",
    "    diff[2] = len(set(five_char[0]) - set(five_char[1]))\n",
    "    three = set(five_char[np.where(diff == 2)[0][0]])\n",
    "    segments[6] = list(three - four - set(segments))[0]\n",
    "    segments[1] = list(four - three)[0]\n",
    "    segments[3] = list(three - one - set(segments))[0]\n",
    "    segments[4] = list(eight - seven - set(segments))[0]\n",
    "    six_char = [inp[i] for i in np.where(input_lengths == 6)[0]]\n",
    "    for num in six_char:\n",
    "        if len(list(one - set(num))) > 0:\n",
    "            segments[2] = list(one - set(num))[0]\n",
    "    segments[5] = list(one - set(segments))[0]\n",
    "    \n",
    "    return segments\n",
    "\n",
    "def get_digits(segments):\n",
    "    digits = []\n",
    "    seg_strings = {\n",
    "        0: np.array([0,1,2,4,5,6]),\n",
    "        1: np.array([2,5]),\n",
    "        2: np.array([0,2,3,4,6]),\n",
    "        3: np.array([0,2,3,5,6]),\n",
    "        4: np.array([1,2,3,5]),\n",
    "        5: np.array([0,1,3,5,6]),\n",
    "        6: np.array([0,1,3,4,5,6]),\n",
    "        7: np.array([0,2,5]),\n",
    "        8: np.array([0,1,2,3,4,5,6]),\n",
    "        9: np.array([0,1,2,3,5,6])}\n",
    "    for i in range(len(seg_strings.keys())):\n",
    "        digits.append(set(segments[seg_strings[i]]))\n",
    "    return digits\n",
    "    \n",
    "def get_values(digits, out):\n",
    "    number = []\n",
    "    for out_str in out:\n",
    "        number.append(str(digits.index(set(out_str))))\n",
    "    return int(\"\".join(number))\n",
    "    \n",
    "inputs = []\n",
    "outputs = []\n",
    "output_lengths = []\n",
    "with open('seven_segment.txt', 'r') as f_read:\n",
    "    output_numbers = []\n",
    "    for line in f_read:\n",
    "        line_split = line.rstrip().split()\n",
    "        break_index = line_split.index('|')\n",
    "\n",
    "        digits = get_digits(get_segments(line_split[:break_index]))\n",
    "        output_numbers.append(get_values(digits, line_split[break_index+1:]))\n",
    "        \n",
    "print(np.sum(output_numbers))"
   ]
  },
  {
   "cell_type": "code",
   "execution_count": 10,
   "id": "0dfbb5b2-8172-4e3f-b301-f462e73f1233",
   "metadata": {},
   "outputs": [
    {
     "name": "stdout",
     "output_type": "stream",
     "text": [
      "444\n",
      "CPU times: user 161 ms, sys: 9.04 ms, total: 170 ms\n",
      "Wall time: 231 ms\n"
     ]
    }
   ],
   "source": [
    "%%time\n",
    "# Day 9: Smoke Basin - Part 1\n",
    "\n",
    "heightmap = []\n",
    "with open('heightmap.txt', 'r') as f_read:\n",
    "    for line in f_read:\n",
    "        heightmap.append(np.array(list(line.rstrip()), dtype=int))\n",
    "\n",
    "heightmap = np.array(heightmap)\n",
    "low_points = []\n",
    "risk_level = []\n",
    "for i in range(len(heightmap)):\n",
    "    for j in range(len(heightmap[0])):\n",
    "        top = max(i-1,0)\n",
    "        bottom = min(i+1, len(heightmap))\n",
    "        left = max(j-1,0)\n",
    "        right = min(j+1, len(heightmap[0]))\n",
    "        if heightmap[i,j] == np.min(np.concatenate((heightmap[top:bottom+1,j], heightmap[i, left:right+1]))) and len(set(np.concatenate((heightmap[top:bottom+1,j], heightmap[i, left:right+1])))) > 1:\n",
    "            low_points.append(heightmap[i,j])\n",
    "            risk_level.append(heightmap[i,j]+1)\n",
    "print(sum(risk_level))"
   ]
  },
  {
   "cell_type": "code",
   "execution_count": 86,
   "id": "35bdda90-5dfe-48ab-bf73-33b7f50cd8b9",
   "metadata": {},
   "outputs": [
    {
     "name": "stderr",
     "output_type": "stream",
     "text": [
      "100%|██████████| 206/206 [02:08<00:00,  1.60it/s]"
     ]
    },
    {
     "name": "stdout",
     "output_type": "stream",
     "text": [
      "1168440\n",
      "CPU times: user 1min 58s, sys: 7.97 s, total: 2min 6s\n",
      "Wall time: 2min 8s\n"
     ]
    },
    {
     "name": "stderr",
     "output_type": "stream",
     "text": [
      "\n"
     ]
    }
   ],
   "source": [
    "%%time\n",
    "# Day 9: Smoke Basin - Part 2\n",
    "\n",
    "heightmap = []\n",
    "with open('heightmap.txt', 'r') as f_read:\n",
    "    for line in f_read:\n",
    "        heightmap.append(np.array(list(line.rstrip()), dtype=int))\n",
    "\n",
    "heightmap = np.array(heightmap)\n",
    "low_points = []\n",
    "for i in range(len(heightmap)):\n",
    "    for j in range(len(heightmap[0])):\n",
    "        top = max(i-1,0)\n",
    "        bottom = min(i+1, len(heightmap))\n",
    "        left = max(j-1,0)\n",
    "        right = min(j+1, len(heightmap[0]))\n",
    "        if heightmap[i,j] == np.min(np.concatenate((heightmap[top:bottom+1,j], heightmap[i, left:right+1]))) and len(set(np.concatenate((heightmap[top:bottom+1,j], heightmap[i, left:right+1])))) > 1:\n",
    "            low_points.append([i,j])\n",
    "\n",
    "def search_neighbhors(heightmap, basin_neigbhors):\n",
    "    basin_neighbors_in = basin_neighbors.copy()\n",
    "    for point in basin_neighbors_in:\n",
    "        i = point[0]\n",
    "        j = point[1]\n",
    "        top = max(i-1,0)\n",
    "        bottom = min(i+1, len(heightmap) - 1)\n",
    "        left = max(j-1,0)\n",
    "        right = min(j+1, len(heightmap[0]) - 1)\n",
    "        if heightmap[top, j] != 9:\n",
    "            basin_neighbors.append([top, j])\n",
    "        if heightmap[bottom, j] != 9:\n",
    "            basin_neighbors.append([bottom, j])\n",
    "        if heightmap[i, left] != 9:\n",
    "            basin_neighbors.append([i, left])\n",
    "        if heightmap[i, right] != 9:\n",
    "            basin_neighbors.append([i, right])\n",
    "    \n",
    "    return basin_neighbors\n",
    "            \n",
    "basin_sizes = []\n",
    "progress = tqdm.tqdm(total=len(low_points))\n",
    "for low_point in low_points:\n",
    "    basin_neighbors = [low_point]\n",
    "    basin_size_new = 0\n",
    "    basin_size = len(set([tuple(basin_neighbor) for basin_neighbor in basin_neighbors]))\n",
    "    while basin_size != basin_size_new:\n",
    "        basin_size = basin_size_new\n",
    "        basin_neighbors = search_neighbhors(heightmap, basin_neighbors)\n",
    "        basin_size_new = len(set([tuple(basin_neighbor) for basin_neighbor in basin_neighbors]))\n",
    "    basin_sizes.append(basin_size_new)\n",
    "    progress.update()\n",
    "progress.close()\n",
    "    \n",
    "\n",
    "print(np.product(np.sort(basin_sizes)[-3:]))"
   ]
  },
  {
   "cell_type": "code",
   "execution_count": null,
   "id": "1150edb7-f639-4dd2-85ca-609c16ebd785",
   "metadata": {},
   "outputs": [],
   "source": [
    "# def get_first_illegal_char(line):\n",
    "#     open_chars = []\n",
    "#     #print(line)\n",
    "#     for char in line:\n",
    "#         print(open_chars)\n",
    "#         if char == '(' or char == '[' or char == '{' or char == '<':\n",
    "#             open_chars.append(char)\n",
    "#         elif char == ')':\n",
    "#             if '(' in open_chars:\n",
    "#                 open_chars.remove('(')\n",
    "#             else:\n",
    "#                 return character_scores[')']\n",
    "#         elif char == ']':\n",
    "#             if '[' in open_chars:\n",
    "#                 open_chars.remove('[')\n",
    "#             else:\n",
    "#                 return character_scores[']']\n",
    "#         elif char == '}':\n",
    "#             if '{' in open_chars:\n",
    "#                 open_chars.remove('{')\n",
    "#             else:\n",
    "#                 return character_scores['}']\n",
    "#         elif char == '>':\n",
    "#             if '<' in open_chars:\n",
    "#                 open_chars.remove('<')\n",
    "#             else:\n",
    "#                 return character_scores['>']"
   ]
  },
  {
   "cell_type": "code",
   "execution_count": null,
   "id": "fd7dc2d4-f1ab-4cf4-b62d-9d6ca361a253",
   "metadata": {},
   "outputs": [],
   "source": [
    "# def get_first_illegal_char(line):\n",
    "#     chars = []\n",
    "#     #print(line)\n",
    "#     for char in line:\n",
    "#         #chars.append(char)\n",
    "#         if char == ')':\n",
    "#             idx = chars[::-1].index('(')\n",
    "#             if chars[::-1][:idx].count('(') != chars[::-1][:idx].count(')') or chars[::-1][:idx].count('[') != chars[::-1][:idx].count(']') or chars[::-1][:idx].count('{') != chars[::-1][:idx].count('}') or chars[::-1][:idx].count('<') != chars[::-1][:idx].count('>'):\n",
    "#                 return character_scores[')']\n",
    "#         elif char == ']':\n",
    "#             idx = chars[::-1].index('[')\n",
    "#             if chars[::-1][:idx].count('(') != chars[::-1][:idx].count(')') or chars[::-1][:idx].count('[') != chars[::-1][:idx].count(']') or chars[::-1][:idx].count('{') != chars[::-1][:idx].count('}') or chars[::-1][:idx].count('<') != chars[::-1][:idx].count('>'):\n",
    "#                 return character_scores[']']\n",
    "#         elif char == '}':\n",
    "#             idx = chars[::-1].index('{')\n",
    "#             if chars[::-1][:idx].count('(') != chars[::-1][:idx].count(')') or chars[::-1][:idx].count('[') != chars[::-1][:idx].count(']') or chars[::-1][:idx].count('{') != chars[::-1][:idx].count('}') or chars[::-1][:idx].count('<') != chars[::-1][:idx].count('>'):\n",
    "#                 return character_scores['}']\n",
    "#         elif char == '>':\n",
    "#             idx = chars[::-1].index('<')\n",
    "#             if chars[::-1][:idx].count('(') != chars[::-1][:idx].count(')') or chars[::-1][:idx].count('[') != chars[::-1][:idx].count(']') or chars[::-1][:idx].count('{') != chars[::-1][:idx].count('}') or chars[::-1][:idx].count('<') != chars[::-1][:idx].count('>'):\n",
    "#                 return character_scores['>']\n",
    "#         else:\n",
    "#             chars.append(char)"
   ]
  },
  {
   "cell_type": "code",
   "execution_count": null,
   "id": "e4fe9207-c453-4b25-b7f7-d10c738af877",
   "metadata": {},
   "outputs": [],
   "source": [
    "# def get_first_illegal_char(line):\n",
    "#     chars = []\n",
    "#     open_chars = ['(', '[', '{', '<']\n",
    "#     for char in line:\n",
    "#         chars.append(char)\n",
    "#         print(chars)\n",
    "#         if char == ')':\n",
    "#             char_rev = chars[::-1]\n",
    "#             for i in range(1,len(char_rev)):\n",
    "#                 if char_rev[i] != '(' and char_rev[i] in open_chars and char_rev[1:i].count('(') == char_rev[1:i].count(')') and char_rev[1:i].count('[') == char_rev[1:i].count(']') and char_rev[1:i].count('{') == char_rev[1:i].count('}') and char_rev[1:i].count('<') == char_rev[1:i].count('>') and (char_rev[1:i].count('(') + char_rev[1:i].count('[') + char_rev[1:i].count('{') + char_rev[1:i].count('<')) != 0:\n",
    "#                     print(i)\n",
    "#                     print(char_rev[i])\n",
    "#                     return character_scores[char]\n",
    "#         elif char == ']':\n",
    "#             char_rev = chars[::-1]\n",
    "#             for i in range(1,len(char_rev)):\n",
    "#                 if char_rev[i] != '[' and char_rev[i] in open_chars and char_rev[1:i].count('(') == char_rev[1:i].count(')') and char_rev[1:i].count('[') == char_rev[1:i].count(']') and char_rev[1:i].count('{') == char_rev[1:i].count('}') and char_rev[1:i].count('<') == char_rev[1:i].count('>') and (char_rev[1:i].count('(') + char_rev[1:i].count('[') + char_rev[1:i].count('{') + char_rev[1:i].count('<')) != 0:\n",
    "#                     return character_scores[char]\n",
    "#         elif char == '}':\n",
    "#             char_rev = chars[::-1]\n",
    "#             for i in range(1,len(char_rev)):\n",
    "#                 if char_rev[i] != '{' and char_rev[i] in open_chars and char_rev[1:i].count('(') == char_rev[1:i].count(')') and char_rev[1:i].count('[') == char_rev[1:i].count(']') and char_rev[1:i].count('{') == char_rev[1:i].count('}') and char_rev[1:i].count('<') == char_rev[1:i].count('>') and (char_rev[1:i].count('(') + char_rev[1:i].count('[') + char_rev[1:i].count('{') + char_rev[1:i].count('<')) != 0:\n",
    "#                     return character_scores[char]\n",
    "#         elif char == '>':\n",
    "#             char_rev = chars[::-1]\n",
    "#             for i in range(1,len(char_rev)):\n",
    "#                 if char_rev[i] != '<' and char_rev[i] in open_chars and char_rev[1:i].count('(') == char_rev[1:i].count(')') and char_rev[1:i].count('[') == char_rev[1:i].count(']') and char_rev[1:i].count('{') == char_rev[1:i].count('}') and char_rev[1:i].count('<') == char_rev[1:i].count('>') and (char_rev[1:i].count('(') + char_rev[1:i].count('[') + char_rev[1:i].count('{') + char_rev[1:i].count('<')) != 0:\n",
    "#                     return character_scores[char]\n",
    "#         else:\n",
    "#             continue"
   ]
  },
  {
   "cell_type": "code",
   "execution_count": 87,
   "id": "0202bbcf-623f-46e3-b720-fa273f93f98e",
   "metadata": {},
   "outputs": [
    {
     "name": "stdout",
     "output_type": "stream",
     "text": [
      "390993\n",
      "CPU times: user 2.7 ms, sys: 1.88 ms, total: 4.57 ms\n",
      "Wall time: 6.23 ms\n"
     ]
    }
   ],
   "source": [
    "%%time\n",
    "# Day 10: Syntax Scoring - Part 1\n",
    "\n",
    "character_scores = {')': 3, ']': 57, '}': 1197, '>': 25137}\n",
    "open_chars = ['(', '[', '{', '<']\n",
    "close_chars = [')', ']', '}', '>']\n",
    "opposites_dictionary = {'(': ')', '[': ']', '{': '}', '<': '>'}\n",
    "\n",
    "subsystem_syntax = []\n",
    "with open('subsystem_syntax.txt', 'r') as f_read:\n",
    "    for line in f_read:\n",
    "        subsystem_syntax.append(line.rstrip())\n",
    "\n",
    "def clear_adjacent_pairs(line):\n",
    "    line_len = 0\n",
    "    while len(line) != line_len:\n",
    "        line_len = len(line)\n",
    "        line = line.replace('()','')\n",
    "        line = line.replace('[]','')\n",
    "        line = line.replace('{}','')\n",
    "        line = line.replace('<>','')\n",
    "    return line\n",
    "        \n",
    "def get_first_illegal_char(line):\n",
    "    new_line = clear_adjacent_pairs(line)\n",
    "    for i in range(len(new_line) - 1):\n",
    "        if new_line[i] in open_chars and new_line[i+1] in close_chars:\n",
    "            return character_scores[new_line[i+1]]\n",
    "    return 0\n",
    "\n",
    "first_illegal_chars = []\n",
    "for line in subsystem_syntax:\n",
    "    first_illegal_chars.append(get_first_illegal_char(line))\n",
    "           \n",
    "print(np.sum(first_illegal_chars))\n",
    "corrupted_lines = np.where(first_illegal_chars)\n",
    "incomplete_lines = np.setdiff1d(np.arange(len(subsystem_syntax)), corrupted_lines)"
   ]
  },
  {
   "cell_type": "code",
   "execution_count": 88,
   "id": "e15e1443-03fe-41cb-83a1-20e38f042adc",
   "metadata": {},
   "outputs": [
    {
     "name": "stdout",
     "output_type": "stream",
     "text": [
      "2391385187\n",
      "CPU times: user 1.78 ms, sys: 328 µs, total: 2.11 ms\n",
      "Wall time: 2.1 ms\n"
     ]
    }
   ],
   "source": [
    "%%time\n",
    "# Day 10: Syntax Scoring - Part 2\n",
    "\n",
    "character_scores = {')': 1, ']': 2, '}': 3, '>': 4}\n",
    "opposites_dictionary = {'(': ')', '[': ']', '{': '}', '<': '>'}\n",
    "\n",
    "subsystem_syntax = []\n",
    "with open('subsystem_syntax.txt', 'r') as f_read:\n",
    "    for line in f_read:\n",
    "        subsystem_syntax.append(line.rstrip())\n",
    "\n",
    "def clear_adjacent_pairs(line):\n",
    "    line_len = 0\n",
    "    while len(line) != line_len:\n",
    "        line_len = len(line)\n",
    "        line = line.replace('()','')\n",
    "        line = line.replace('[]','')\n",
    "        line = line.replace('{}','')\n",
    "        line = line.replace('<>','')\n",
    "    return line\n",
    "\n",
    "def get_completion_score(cleared_line):\n",
    "    score = 0\n",
    "    for i in list(range(len(cleared_line)))[::-1]:\n",
    "        score += character_scores[opposites_dictionary[cleared_line[i]]]\n",
    "        score *= 5\n",
    "    return int(score / 5)\n",
    "\n",
    "incomplete_scores = []\n",
    "for i in incomplete_lines: ### The incomplete lines are obtained from the previous part of this day\n",
    "    incomplete_scores.append(get_completion_score(clear_adjacent_pairs(subsystem_syntax[i])))\n",
    "\n",
    "print(np.sort(incomplete_scores)[int(np.floor(len(incomplete_lines)/2))])"
   ]
  },
  {
   "cell_type": "code",
   "execution_count": 141,
   "id": "1a28ed82-2ed0-40a8-a253-bdaeb0d1a778",
   "metadata": {},
   "outputs": [
    {
     "name": "stdout",
     "output_type": "stream",
     "text": [
      "1656\n",
      "CPU times: user 31.3 ms, sys: 2.83 ms, total: 34.1 ms\n",
      "Wall time: 36.5 ms\n"
     ]
    }
   ],
   "source": [
    "%%time\n",
    "# Day 11: Dumbo Octopus - Part 1\n",
    "\n",
    "nsteps = 100\n",
    "\n",
    "octopus_energy_levels = []\n",
    "with open('octopus_energy_levels_test.txt', 'r') as f_read:\n",
    "    for line in f_read:\n",
    "        octopus_energy_levels.append(list(line.rstrip()))\n",
    "        \n",
    "octopus_energy_levels = np.array(octopus_energy_levels, dtype='int')\n",
    "\n",
    "def simulate_step(octopus_energy_levels):\n",
    "    num_flashes = 0\n",
    "    octopus_energy_levels += 1\n",
    "    flashed_positions = np.where(octopus_energy_levels>9)\n",
    "    all_flashed_positions = []\n",
    "    while len(flashed_positions[0]) > 0:\n",
    "        flashed_positions_tuples = [(i,j) for i, j in zip(flashed_positions[0], flashed_positions[1])]\n",
    "        for tup in flashed_positions_tuples:\n",
    "            top = max(tup[0]-1,0)\n",
    "            bottom = min(tup[0]+2, len(octopus_energy_levels))\n",
    "            left = max(tup[1]-1,0)\n",
    "            right = min(tup[1]+2, len(octopus_energy_levels[0]))\n",
    "            octopus_energy_levels[top:bottom, left:right] += 1\n",
    "            octopus_energy_levels[tup] = 0\n",
    "            flashed_positions = np.where(octopus_energy_levels>9)\n",
    "    \n",
    "        all_flashed_positions.append(flashed_positions_tuples)\n",
    "    for flashed_position_array in all_flashed_positions:\n",
    "        for flashed_position in flashed_position_array:\n",
    "            octopus_energy_levels[flashed_position] = 0\n",
    "            num_flashes += 1\n",
    "        \n",
    "    return num_flashes, octopus_energy_levels\n",
    "    \n",
    "number_of_flashes = 0\n",
    "for i in range(nsteps):\n",
    "    num_flashes, octopus_energy_levels = simulate_step(octopus_energy_levels)\n",
    "    number_of_flashes += num_flashes\n",
    "    \n",
    "print(number_of_flashes)"
   ]
  },
  {
   "cell_type": "code",
   "execution_count": 138,
   "id": "d830fbef-9829-4153-bbff-3e4faaf36c39",
   "metadata": {},
   "outputs": [
    {
     "name": "stdout",
     "output_type": "stream",
     "text": [
      "354\n",
      "CPU times: user 115 ms, sys: 3.88 ms, total: 119 ms\n",
      "Wall time: 143 ms\n"
     ]
    }
   ],
   "source": [
    "%%time\n",
    "# Day 11: Dumbo Octopus - Part 2\n",
    "\n",
    "octopus_energy_levels = []\n",
    "with open('octopus_energy_levels.txt', 'r') as f_read:\n",
    "    for line in f_read:\n",
    "        octopus_energy_levels.append(list(line.rstrip()))\n",
    "        \n",
    "octopus_energy_levels = np.array(octopus_energy_levels, dtype='int')\n",
    "\n",
    "def simulate_step(octopus_energy_levels):\n",
    "    num_flashes = 0\n",
    "    octopus_energy_levels += 1\n",
    "    all_flashed_positions = []\n",
    "    flashed_positions = np.where(octopus_energy_levels>9)\n",
    "    while len(flashed_positions[0]) > 0:\n",
    "        flashed_positions_tuples = [(i,j) for i, j in zip(flashed_positions[0], flashed_positions[1])]\n",
    "        for tup in flashed_positions_tuples:\n",
    "            top = max(tup[0]-1,0)\n",
    "            bottom = min(tup[0]+2, len(octopus_energy_levels))\n",
    "            left = max(tup[1]-1,0)\n",
    "            right = min(tup[1]+2, len(octopus_energy_levels[0]))\n",
    "            octopus_energy_levels[top:bottom, left:right] += 1\n",
    "            octopus_energy_levels[tup] = 0\n",
    "            flashed_positions = np.where(octopus_energy_levels>9)\n",
    "        \n",
    "        all_flashed_positions.append(flashed_positions_tuples)\n",
    "        \n",
    "    for flashed_position_array in all_flashed_positions:\n",
    "        for flashed_position in flashed_position_array:\n",
    "            octopus_energy_levels[flashed_position] = 0\n",
    "     \n",
    "    return octopus_energy_levels\n",
    "    \n",
    "equality = False\n",
    "nsteps = 0\n",
    "while equality == False:\n",
    "    octopus_energy_levels = simulate_step(octopus_energy_levels)\n",
    "    nsteps += 1\n",
    "    example_qty = octopus_energy_levels[0,0]\n",
    "    equality = np.all(octopus_energy_levels == example_qty)\n",
    "\n",
    "print(nsteps)"
   ]
  },
  {
   "cell_type": "code",
   "execution_count": 146,
   "id": "438a3e9c-452a-41ae-8001-4d5d9639b5ab",
   "metadata": {},
   "outputs": [
    {
     "name": "stdout",
     "output_type": "stream",
     "text": [
      "start\n",
      "b\n",
      "{'start': ['A', 'b'], 'A': ['start', 'c', 'b', 'end'], 'b': ['start', 'A', 'd', 'end'], 'c': ['A'], 'd': ['b'], 'end': ['A', 'b']}\n",
      "CPU times: user 978 µs, sys: 3 ms, total: 3.98 ms\n",
      "Wall time: 3.88 ms\n"
     ]
    }
   ],
   "source": [
    "%%time\n",
    "# Day 12: Passage Pathing - Part 1\n",
    "\n",
    "cave_graph = {}\n",
    "with open('passage_map_test1.txt', 'r') as f_read:\n",
    "    for line in f_read:\n",
    "        start_node = line.rstrip().split('-')[0]\n",
    "        end_node = line.rstrip().split('-')[1]\n",
    "        if start_node in cave_graph.keys():\n",
    "            cave_graph[start_node].append(end_node)\n",
    "        else:\n",
    "            cave_graph[start_node] = [end_node]\n",
    "        if end_node in cave_graph.keys():\n",
    "            cave_graph[end_node].append(start_node)\n",
    "        else:\n",
    "            cave_graph[end_node] = [start_node]\n",
    "        \n",
    "current_node = 'start'\n",
    "num_paths = 0\n",
    "while current_node != 'end':\n",
    "    print(current_node)\n",
    "    for node in cave_graph[current_node]:\n",
    "        current_node = node\n",
    "        num_paths += 1\n",
    "        \n",
    "\n",
    "\n",
    "        \n",
    "print(cave_graph)"
   ]
  },
  {
   "cell_type": "code",
   "execution_count": null,
   "id": "304d4ad6-7757-4d27-8da4-2878084a261d",
   "metadata": {},
   "outputs": [],
   "source": []
  },
  {
   "cell_type": "code",
   "execution_count": null,
   "id": "da88103a-020b-4ba2-ab08-069eb0f3c791",
   "metadata": {},
   "outputs": [],
   "source": []
  },
  {
   "cell_type": "code",
   "execution_count": null,
   "id": "7bc43102-142b-4acb-9535-1a14a69b5bd7",
   "metadata": {},
   "outputs": [],
   "source": []
  },
  {
   "cell_type": "code",
   "execution_count": null,
   "id": "9660785f-1dbc-43df-a69d-9017ab3501ea",
   "metadata": {},
   "outputs": [],
   "source": []
  },
  {
   "cell_type": "code",
   "execution_count": null,
   "id": "924f2a15-9e14-40b3-93a6-3b6a677d33e5",
   "metadata": {},
   "outputs": [],
   "source": []
  },
  {
   "cell_type": "code",
   "execution_count": null,
   "id": "127d38cb-f66c-4b80-8ff0-45337f203a6b",
   "metadata": {},
   "outputs": [],
   "source": []
  },
  {
   "cell_type": "code",
   "execution_count": null,
   "id": "a8a69982-4302-4860-b66c-c0d4440a59f6",
   "metadata": {},
   "outputs": [],
   "source": []
  },
  {
   "cell_type": "code",
   "execution_count": null,
   "id": "aab790aa-752a-473b-b7c5-2300e9f4c108",
   "metadata": {},
   "outputs": [],
   "source": []
  },
  {
   "cell_type": "code",
   "execution_count": null,
   "id": "ba0c08b2-6537-4f12-8488-18d51a48979d",
   "metadata": {},
   "outputs": [],
   "source": [
    "%%time\n",
    "# Day :  - Part \n",
    "\n",
    "\n",
    "with open('.txt', 'r') as f_read:\n",
    "     = np.loadtxt(f_read, dtype='int')\n",
    "        \n"
   ]
  }
 ],
 "metadata": {
  "kernelspec": {
   "display_name": "Python 3 (ipykernel)",
   "language": "python",
   "name": "python3"
  },
  "language_info": {
   "codemirror_mode": {
    "name": "ipython",
    "version": 3
   },
   "file_extension": ".py",
   "mimetype": "text/x-python",
   "name": "python",
   "nbconvert_exporter": "python",
   "pygments_lexer": "ipython3",
   "version": "3.8.12"
  }
 },
 "nbformat": 4,
 "nbformat_minor": 5
}
