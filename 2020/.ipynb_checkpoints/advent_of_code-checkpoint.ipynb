{
 "cells": [
  {
   "cell_type": "markdown",
   "metadata": {},
   "source": [
    "### These are my solutions for advent of code 2020\n",
    "https://adventofcode.com/2020"
   ]
  },
  {
   "cell_type": "code",
   "execution_count": 5,
   "metadata": {},
   "outputs": [
    {
     "name": "stdout",
     "output_type": "stream",
     "text": [
      "CPU times: user 10 µs, sys: 10 µs, total: 20 µs\n",
      "Wall time: 71 µs\n",
      "1020084\n"
     ]
    }
   ],
   "source": [
    "# Day 1: Report Repair - Part 1\n",
    "\n",
    "%time\n",
    "\n",
    "expense_report_entries = []\n",
    "\n",
    "f_read = open(\"expense_report.txt\", \"r\")\n",
    "for line in f_read:\n",
    "    entry = int(line.rstrip())\n",
    "    expense_report_entries.append(entry)\n",
    "    complement = 2020-entry\n",
    "    if complement in expense_report_entries:\n",
    "        break\n",
    "f_read.close()\n",
    "\n",
    "product = complement * entry\n",
    "print(product)"
   ]
  },
  {
   "cell_type": "code",
   "execution_count": 14,
   "metadata": {},
   "outputs": [
    {
     "name": "stdout",
     "output_type": "stream",
     "text": [
      "CPU times: user 2 µs, sys: 0 ns, total: 2 µs\n",
      "Wall time: 5.01 µs\n",
      "295086480\n"
     ]
    }
   ],
   "source": [
    "# Day 1: Report Repair - Part 2\n",
    "\n",
    "%time\n",
    "\n",
    "expense_report_entries = []\n",
    "break_bool = False\n",
    "\n",
    "f_read = open(\"expense_report.txt\", \"r\")\n",
    "for line in f_read:\n",
    "    entry = int(line.rstrip())\n",
    "    expense_report_entries.append(entry)\n",
    "f_read.close()\n",
    "    \n",
    "for i in range(0,len(expense_report_entries)):\n",
    "    entry = expense_report_entries[i]\n",
    "    difference = 2020 - entry\n",
    "    for j in range(i+1,len(expense_report_entries)):\n",
    "        complement = difference - expense_report_entries[j]\n",
    "        if complement in expense_report_entries:\n",
    "            break_bool = True\n",
    "            break\n",
    "    if break_bool:\n",
    "        break\n",
    "\n",
    "product = entry * complement * (difference-complement)\n",
    "print(product)"
   ]
  },
  {
   "cell_type": "code",
   "execution_count": 28,
   "metadata": {},
   "outputs": [
    {
     "name": "stdout",
     "output_type": "stream",
     "text": [
      "CPU times: user 3 µs, sys: 0 ns, total: 3 µs\n",
      "Wall time: 7.15 µs\n",
      "467\n"
     ]
    }
   ],
   "source": [
    "# Day 2: Password Philosophy - Part 1\n",
    "\n",
    "%time \n",
    "\n",
    "#min_count_list = []\n",
    "#max_count_list = []\n",
    "#char_list = []\n",
    "#password_list = []\n",
    "num_valid_passwords = 0\n",
    "\n",
    "f_read = open(\"password_list.txt\", \"r\")\n",
    "for line in f_read:\n",
    "    password = line.split(\":\")[1].strip()\n",
    "    min_count = int(line.split(\":\")[0].split()[0].split(\"-\")[0])\n",
    "    max_count = int(line.split(\":\")[0].split()[0].split(\"-\")[1])\n",
    "    char = line.split(\":\")[0].split()[1]\n",
    "    \n",
    "#    password_list.append(password)\n",
    "#    min_count_list.append(min_count)\n",
    "#    max_count_list.append(max_count)\n",
    "#    char_list.append(char)\n",
    "    \n",
    "    char_count = password.count(char) \n",
    "    if min_count <= char_count and char_count <= max_count:\n",
    "        num_valid_passwords = num_valid_passwords + 1\n",
    "    \n",
    "f_read.close()\n",
    "\n",
    "print(num_valid_passwords)"
   ]
  },
  {
   "cell_type": "code",
   "execution_count": 40,
   "metadata": {},
   "outputs": [
    {
     "name": "stdout",
     "output_type": "stream",
     "text": [
      "CPU times: user 4 µs, sys: 1e+03 ns, total: 5 µs\n",
      "Wall time: 9.06 µs\n",
      "441\n"
     ]
    }
   ],
   "source": [
    "# Day 2: Password Philosophy - Part 2\n",
    "\n",
    "%time \n",
    "\n",
    "num_valid_passwords = 0\n",
    "\n",
    "f_read = open(\"password_list.txt\", \"r\")\n",
    "for line in f_read:\n",
    "    password = line.split(\":\")[1].strip()\n",
    "    min_pos = int(line.split(\":\")[0].split()[0].split(\"-\")[0])\n",
    "    max_pos = int(line.split(\":\")[0].split()[0].split(\"-\")[1])\n",
    "    char = line.split(\":\")[0].split()[1]\n",
    "    \n",
    "    if password[min_pos-1] == char and password[max_pos-1] != char:\n",
    "        num_valid_passwords = num_valid_passwords + 1\n",
    "        \n",
    "    if password[max_pos-1] == char and password[min_pos-1] != char:\n",
    "        num_valid_passwords = num_valid_passwords + 1    \n",
    "\n",
    "f_read.close()\n",
    "\n",
    "print(num_valid_passwords)"
   ]
  },
  {
   "cell_type": "code",
   "execution_count": 54,
   "metadata": {},
   "outputs": [
    {
     "name": "stdout",
     "output_type": "stream",
     "text": [
      "CPU times: user 3 µs, sys: 1 µs, total: 4 µs\n",
      "Wall time: 9.06 µs\n",
      "259\n"
     ]
    }
   ],
   "source": [
    "# Day 3: Toboggan Trajectory - Part 1\n",
    "\n",
    "%time \n",
    "\n",
    "x_step = 3\n",
    "y_step = 1\n",
    "\n",
    "tree_positions_array = []\n",
    "num_trees_encountered = 0\n",
    "\n",
    "f_read = open(\"tree_map.txt\", \"r\")\n",
    "for line in f_read:\n",
    "    grid_width = len(line.rstrip())\n",
    "    line_positions_array = [pos for pos, char in enumerate(line) if char == \"#\"]\n",
    "    tree_positions_array.append(line_positions_array)\n",
    "f_read.close()\n",
    "\n",
    "x_pos = 0\n",
    "y_pos = 0\n",
    "\n",
    "while y_pos < len(tree_positions_array):\n",
    "    if x_pos % grid_width in tree_positions_array[y_pos]:\n",
    "        num_trees_encountered = num_trees_encountered + 1\n",
    "    \n",
    "    x_pos = x_pos + x_step\n",
    "    y_pos = y_pos + y_step\n",
    "\n",
    "print(num_trees_encountered)"
   ]
  },
  {
   "cell_type": "code",
   "execution_count": 56,
   "metadata": {},
   "outputs": [
    {
     "name": "stdout",
     "output_type": "stream",
     "text": [
      "CPU times: user 4 µs, sys: 2 µs, total: 6 µs\n",
      "Wall time: 12.2 µs\n",
      "2224913600\n"
     ]
    }
   ],
   "source": [
    "# Day 3: Toboggan Trajectory - Part 2\n",
    "\n",
    "%time \n",
    "\n",
    "def get_num_trees_encountered(x_step, y_step):\n",
    "    tree_positions_array = []\n",
    "    num_trees_encountered = 0\n",
    "\n",
    "    f_read = open(\"tree_map.txt\", \"r\")\n",
    "    for line in f_read:\n",
    "        grid_width = len(line.rstrip())\n",
    "        line_positions_array = [pos for pos, char in enumerate(line) if char == \"#\"]\n",
    "        tree_positions_array.append(line_positions_array)\n",
    "    f_read.close()\n",
    "\n",
    "    x_pos = 0\n",
    "    y_pos = 0\n",
    "\n",
    "    while y_pos < len(tree_positions_array):\n",
    "        if x_pos % grid_width in tree_positions_array[y_pos]:\n",
    "            num_trees_encountered = num_trees_encountered + 1\n",
    "    \n",
    "        x_pos = x_pos + x_step\n",
    "        y_pos = y_pos + y_step\n",
    "\n",
    "    return num_trees_encountered\n",
    "\n",
    "num_trees_1 = get_num_trees_encountered(1, 1)\n",
    "num_trees_2 = get_num_trees_encountered(3, 1)\n",
    "num_trees_3 = get_num_trees_encountered(5, 1)\n",
    "num_trees_4 = get_num_trees_encountered(7, 1)\n",
    "num_trees_5 = get_num_trees_encountered(1, 2)\n",
    "\n",
    "product = num_trees_1 * num_trees_2 * num_trees_3 * num_trees_4 * num_trees_5\n",
    "print(product)"
   ]
  },
  {
   "cell_type": "code",
   "execution_count": 72,
   "metadata": {},
   "outputs": [
    {
     "name": "stdout",
     "output_type": "stream",
     "text": [
      "[1, 2, 3, 4]\n"
     ]
    }
   ],
   "source": [
    "numbers = [1, 3, 4, 2]\n",
    "numbers.sort()\n",
    "print(numbers)"
   ]
  },
  {
   "cell_type": "code",
   "execution_count": 77,
   "metadata": {},
   "outputs": [
    {
     "name": "stdout",
     "output_type": "stream",
     "text": [
      "CPU times: user 4 µs, sys: 1 µs, total: 5 µs\n",
      "Wall time: 9.06 µs\n",
      "247\n"
     ]
    }
   ],
   "source": [
    "# Day 4: Passport Processing - Part 1\n",
    "\n",
    "%time\n",
    "\n",
    "field_list = [\"byr\", \"iyr\", \"eyr\", \"hgt\", \"hcl\", \"ecl\", \"pid\", \"cid\"]\n",
    "field_array = []\n",
    "num_valid_passports = 0\n",
    "\n",
    "f_read = open(\"passport_batch.txt\", \"r\")\n",
    "for line in f_read:\n",
    "    if not line == '\\n':\n",
    "        entry_list = line.rstrip().split()\n",
    "        for entry in entry_list:\n",
    "            idx = field_list.index(entry.split(\":\")[0]) + 1\n",
    "            field_array.append(idx)\n",
    "    else:\n",
    "        field_array.sort()\n",
    "        if field_array == [1,2,3,4,5,6,7] or field_array == [1,2,3,4,5,6,7,8]:\n",
    "            num_valid_passports = num_valid_passports + 1\n",
    "        field_array = []\n",
    "\n",
    "field_array.sort()\n",
    "if field_array == [1,2,3,4,5,6,7] or field_array == [1,2,3,4,5,6,7,8]:\n",
    "    num_valid_passports = num_valid_passports + 1\n",
    "field_array = []\n",
    "\n",
    "f_read.close()\n",
    "\n",
    "print(num_valid_passports)\n",
    "    "
   ]
  },
  {
   "cell_type": "code",
   "execution_count": 109,
   "metadata": {},
   "outputs": [
    {
     "data": {
      "text/plain": [
       "False"
      ]
     },
     "execution_count": 109,
     "metadata": {},
     "output_type": "execute_result"
    }
   ],
   "source": [
    "a = \"13234cm\"\n",
    "b = {'1', '2', '3', '4', '5', '6', 'a', 'b', 'c', 'l', 'm', 'n'}\n",
    "c = {\"x\", \"y\", \"z\"}\n",
    "\n",
    "\n",
    "not a[0:-2].isdigit()"
   ]
  },
  {
   "cell_type": "code",
   "execution_count": 123,
   "metadata": {},
   "outputs": [
    {
     "name": "stdout",
     "output_type": "stream",
     "text": [
      "CPU times: user 3 µs, sys: 0 ns, total: 3 µs\n",
      "Wall time: 5.96 µs\n",
      "145\n"
     ]
    }
   ],
   "source": [
    "# Day 4: Passport Processing - Part 2\n",
    "\n",
    "%time\n",
    "\n",
    "field_list = [\"byr\", \"iyr\", \"eyr\", \"hgt\", \"hcl\", \"ecl\", \"pid\", \"cid\"]\n",
    "hair_col_num_list = {\"0\", \"1\", \"2\", \"3\", \"4\", \"5\", \"6\", \"7\", \"8\", \"9\"}\n",
    "hair_col_char_list = {\"a\", \"b\", \"c\", \"d\", \"e\", \"f\"}\n",
    "eye_col_list = [\"amb\", \"blu\", \"brn\", \"gry\", \"grn\", \"hzl\", \"oth\"]\n",
    "field_array = []\n",
    "num_valid_passports = 0\n",
    "\n",
    "def check_field_validity(idx, value, field_array):\n",
    "    \n",
    "    if idx == 1:\n",
    "        if int(value) < 1920 or 2002 < int(value):\n",
    "            field_array.append(9)\n",
    "    if idx == 2:\n",
    "        if int(value) < 2010 or 2020 < int(value):\n",
    "            field_array.append(10)\n",
    "    if idx == 3:\n",
    "        if int(value) < 2020 or 2030 < int(value):\n",
    "            field_array.append(11)\n",
    "    if idx == 4:\n",
    "        if value[-2:] != \"cm\" and value[-2:] != \"in\":\n",
    "            field_array.append(12)\n",
    "        if not value[0:-2].isdigit():\n",
    "            field_array.append(13)\n",
    "        elif value[-2:] == \"cm\":\n",
    "            if int(value[0:-2]) < 150 or int(value[0:-2]) > 193:\n",
    "                field_array.append(14)\n",
    "        elif value[-2:] == \"in\":\n",
    "            if int(value[0:-2]) < 59 or int(value[0:-2]) > 76:\n",
    "                field_array.append(15)\n",
    "    if idx == 5:\n",
    "        if value[0] != \"#\" or len(value) != 7 or not set(value[1:]).issubset(hair_col_num_list.union(hair_col_char_list)):\n",
    "            field_array.append(16)\n",
    "    if idx == 6:\n",
    "        if not value in eye_col_list :\n",
    "            field_array.append(17)                    \n",
    "    if idx == 7:\n",
    "        if len(value) != 9 or not value.isdigit():\n",
    "            field_array.append(18)\n",
    "    \n",
    "    return field_array\n",
    "\n",
    "\n",
    "f_read = open(\"passport_batch.txt\", \"r\")\n",
    "for line in f_read:\n",
    "    if not line == '\\n':\n",
    "        entry_list = line.rstrip().split()\n",
    "        for entry in entry_list:\n",
    "            idx = field_list.index(entry.split(\":\")[0]) + 1\n",
    "            field_array.append(idx)\n",
    "            value = entry.split(\":\")[1]\n",
    "            field_array = check_field_validity(idx, value, field_array)\n",
    "                    \n",
    "    else:\n",
    "        field_array.sort()\n",
    "        if field_array == [1,2,3,4,5,6,7] or field_array == [1,2,3,4,5,6,7,8]:\n",
    "            num_valid_passports = num_valid_passports + 1\n",
    "        field_array = []\n",
    "\n",
    "field_array.sort()\n",
    "if field_array == [1,2,3,4,5,6,7] or field_array == [1,2,3,4,5,6,7,8]:\n",
    "    num_valid_passports = num_valid_passports + 1\n",
    "field_array = []\n",
    "\n",
    "f_read.close()\n",
    "\n",
    "print(num_valid_passports)"
   ]
  },
  {
   "cell_type": "code",
   "execution_count": 145,
   "metadata": {},
   "outputs": [
    {
     "name": "stdout",
     "output_type": "stream",
     "text": [
      "CPU times: user 3 µs, sys: 1 µs, total: 4 µs\n",
      "Wall time: 4.77 µs\n",
      "892\n"
     ]
    }
   ],
   "source": [
    "# Day 5: Binary Boarding - Part 1\n",
    "\n",
    "%time\n",
    "\n",
    "boarding_passes_array = []\n",
    "seat_id_array = []\n",
    "\n",
    "def get_seat_id(boarding_pass):\n",
    "    max_row = 127\n",
    "    max_col = 7\n",
    "    f_row = 0\n",
    "    b_row = 127\n",
    "    l_col = 0\n",
    "    r_col = 7\n",
    "    for i in range(0,8):\n",
    "        if boarding_pass[i] == 'F':\n",
    "            b_row = b_row - (b_row + 1 - f_row)/2\n",
    "        if boarding_pass[i] == 'B':\n",
    "            f_row = f_row + (b_row + 1 - f_row)/2\n",
    "    for i in range(7,10):\n",
    "        if boarding_pass[i] == 'L':\n",
    "            r_col = r_col - (r_col + 1 - l_col)/2\n",
    "        if boarding_pass[i] == 'R':\n",
    "            l_col = l_col + (r_col + 1 - l_col)/2\n",
    "    \n",
    "    seat_id = int(f_row * 8 + l_col)\n",
    "    return(seat_id)\n",
    "\n",
    "f_read = open(\"boarding_passes.txt\", \"r\")\n",
    "for line in f_read:\n",
    "    boarding_pass = line.rstrip()\n",
    "    boarding_passes_array.append(boarding_pass)\n",
    "    seat_id_array.append(get_seat_id(boarding_pass))\n",
    "\n",
    "f_read.close()    \n",
    "\n",
    "print(max(seat_id_array))"
   ]
  },
  {
   "cell_type": "code",
   "execution_count": 147,
   "metadata": {},
   "outputs": [
    {
     "name": "stdout",
     "output_type": "stream",
     "text": [
      "CPU times: user 8 µs, sys: 13 µs, total: 21 µs\n",
      "Wall time: 75.1 µs\n",
      "625\n"
     ]
    }
   ],
   "source": [
    "# Day 5: Binary Boarding - Part 2\n",
    "\n",
    "%time\n",
    "\n",
    "boarding_passes_array = []\n",
    "seat_id_array = []\n",
    "\n",
    "def get_seat_id(boarding_pass):\n",
    "    max_row = 127\n",
    "    max_col = 7\n",
    "    f_row = 0\n",
    "    b_row = 127\n",
    "    l_col = 0\n",
    "    r_col = 7\n",
    "    for i in range(0,8):\n",
    "        if boarding_pass[i] == 'F':\n",
    "            b_row = b_row - (b_row + 1 - f_row)/2\n",
    "        if boarding_pass[i] == 'B':\n",
    "            f_row = f_row + (b_row + 1 - f_row)/2\n",
    "    for i in range(7,10):\n",
    "        if boarding_pass[i] == 'L':\n",
    "            r_col = r_col - (r_col + 1 - l_col)/2\n",
    "        if boarding_pass[i] == 'R':\n",
    "            l_col = l_col + (r_col + 1 - l_col)/2\n",
    "    \n",
    "    seat_id = int(f_row * 8 + l_col)\n",
    "    return(seat_id)\n",
    "\n",
    "f_read = open(\"boarding_passes.txt\", \"r\")\n",
    "for line in f_read:\n",
    "    boarding_pass = line.rstrip()\n",
    "    boarding_passes_array.append(boarding_pass)\n",
    "    seat_id_array.append(get_seat_id(boarding_pass))\n",
    "\n",
    "f_read.close()    \n",
    "\n",
    "for i in range(0, max(seat_id_array)):\n",
    "    if i not in seat_id_array:\n",
    "        if (i - 1) in seat_id_array and (i + 1) in seat_id_array:\n",
    "            print(i)"
   ]
  },
  {
   "cell_type": "code",
   "execution_count": 163,
   "metadata": {},
   "outputs": [
    {
     "name": "stdout",
     "output_type": "stream",
     "text": [
      "CPU times: user 3 µs, sys: 0 ns, total: 3 µs\n",
      "Wall time: 6.91 µs\n",
      "6249\n"
     ]
    }
   ],
   "source": [
    "# Day 6: Custom Customs - Part 1\n",
    "\n",
    "%time\n",
    "\n",
    "group_answers_list = []\n",
    "answers_string = \"\"\n",
    "\n",
    "f_read = open(\"customs_answers.txt\", \"r\")\n",
    "for line in f_read:\n",
    "    if not line == '\\n':\n",
    "        answers_string = answers_string + line.rstrip()\n",
    "    else:\n",
    "        group_answers_list.append(set(answers_string))\n",
    "        answers_string = \"\"\n",
    "\n",
    "answers_string = answers_string + line.rstrip()\n",
    "group_answers_list.append(set(answers_string))\n",
    "        \n",
    "f_read.close()\n",
    "\n",
    "sum_answer_counts = 0\n",
    "for group_answer in group_answers_list:\n",
    "    sum_answer_counts = sum_answer_counts + len(group_answer)\n",
    "\n",
    "print(sum_answer_counts)"
   ]
  },
  {
   "cell_type": "code",
   "execution_count": 14,
   "metadata": {},
   "outputs": [
    {
     "name": "stdout",
     "output_type": "stream",
     "text": [
      "CPU times: user 3 µs, sys: 1 µs, total: 4 µs\n",
      "Wall time: 7.87 µs\n",
      "3103\n"
     ]
    }
   ],
   "source": [
    "# Day 6: Custom Customs - Part 2\n",
    "\n",
    "%time\n",
    "\n",
    "group_answers_list = []\n",
    "group_counts = 0\n",
    "answers_string = \"\"\n",
    "\n",
    "def get_allGroup_answers(answers_string, group_counts):\n",
    "    allGroup_answers = []\n",
    "    for question in set(answers_string):\n",
    "        if answers_string.count(question) == group_counts:\n",
    "            allGroup_answers.append(question)\n",
    "    return allGroup_answers\n",
    "\n",
    "f_read = open(\"customs_answers.txt\", \"r\")\n",
    "for line in f_read:\n",
    "    if not line == '\\n':\n",
    "        answers_string = answers_string + line.rstrip()\n",
    "        group_counts = group_counts + 1\n",
    "    else:\n",
    "        group_answers_list.append(get_allGroup_answers(answers_string, group_counts))\n",
    "        answers_string = \"\"\n",
    "        group_counts = 0\n",
    "\n",
    "answers_string = answers_string + line.rstrip()\n",
    "group_counts = group_counts + 1\n",
    "group_answers_list.append(get_allGroup_answers(answers_string, group_counts))\n",
    "        \n",
    "f_read.close()\n",
    "\n",
    "sum_answer_counts = 0\n",
    "for group_answer in group_answers_list:\n",
    "    sum_answer_counts = sum_answer_counts + len(group_answer)\n",
    "\n",
    "print(sum_answer_counts)"
   ]
  },
  {
   "cell_type": "code",
   "execution_count": 60,
   "metadata": {},
   "outputs": [
    {
     "name": "stdout",
     "output_type": "stream",
     "text": [
      "CPU times: user 3 µs, sys: 1e+03 ns, total: 4 µs\n",
      "Wall time: 32.2 µs\n",
      "332\n"
     ]
    }
   ],
   "source": [
    "# Day 7: Handy Haversacks - Part 1\n",
    "\n",
    "%time\n",
    "\n",
    "bag_types_list = []\n",
    "parent_dict = {}\n",
    "child_dict = {}\n",
    "\n",
    "def get_outer_bags(parent_dict, bag_type, outer_bag_list = []):\n",
    "    for parent_bag_type in parent_dict[bag_type]:\n",
    "        outer_bag_list.append(parent_bag_type)\n",
    "        outer_bag_list = get_num_outer_bags(parent_dict, parent_bag_type, outer_bag_list)\n",
    "    return outer_bag_list\n",
    "\n",
    "f_read = open(\"bag_rules.txt\", \"r\")\n",
    "for line in f_read:\n",
    "    bag_type = line.split(\"bags contain\")[0].rstrip()\n",
    "    bag_types_list.append(bag_type)\n",
    "    child_bags_info = line.split(\"bags contain\")[1].rstrip()\n",
    "    child_dict[bag_type] = []\n",
    "    parent_dict[bag_type] = []\n",
    "    if child_bags_info != \" no other bags.\":\n",
    "        for child_bag_type in child_bags_info[:-1].split(\",\"):\n",
    "            if child_bag_type[-1] == \"s\":\n",
    "                child_dict[bag_type].append(child_bag_type[3:-5])\n",
    "            else:\n",
    "                child_dict[bag_type].append(child_bag_type[3:-4])\n",
    "f_read.close()\n",
    "\n",
    "for key in child_dict.keys():\n",
    "    for bag_type in child_dict[key]:\n",
    "        parent_dict[bag_type].append(key)\n",
    "\n",
    "print(len(set(get_outer_bags(parent_dict, \"shiny gold\"))))"
   ]
  },
  {
   "cell_type": "code",
   "execution_count": 101,
   "metadata": {},
   "outputs": [
    {
     "name": "stdout",
     "output_type": "stream",
     "text": [
      "CPU times: user 16 µs, sys: 7 µs, total: 23 µs\n",
      "Wall time: 34.1 µs\n",
      "13 faded blue 3\n",
      "14 dotted black 4\n",
      "14 dark olive 1\n",
      "27 faded blue 5\n",
      "28 dotted black 6\n",
      "28 vibrant plum 2\n",
      "28\n"
     ]
    }
   ],
   "source": [
    "# Day 7: Handy Haversacks - Part 2\n",
    "\n",
    "%time\n",
    "\n",
    "bag_types_list = []\n",
    "parent_dict = {}\n",
    "child_dict = {}\n",
    "child_num_dict = {}\n",
    "\n",
    "def get_num_inner_bags(child_dict, child_num_dict, bag_type, num_inner_bags = 0):\n",
    "    num_inner_bags = num_inner_bags + 1 + sum(child_num_dict[bag_type])\n",
    "    for i in range(0, len(child_dict[bag_type])):\n",
    "        num_inner_bags = get_num_inner_bags(child_dict, child_num_dict, child_dict[bag_type][i], num_inner_bags)\n",
    "        print(num_inner_bags, child_dict[bag_type][i], child_num_dict[bag_type][i])\n",
    "    return num_inner_bags\n",
    "        \n",
    "f_read = open(\"bag_rules_test.txt\", \"r\")\n",
    "for line in f_read:\n",
    "    bag_type = line.split(\"bags contain\")[0].rstrip()\n",
    "    bag_types_list.append(bag_type)\n",
    "    child_bags_info = line.split(\"bags contain\")[1].rstrip()\n",
    "    child_dict[bag_type] = []\n",
    "    parent_dict[bag_type] = []\n",
    "    child_num_dict[bag_type] = []\n",
    "    if child_bags_info != \" no other bags.\":\n",
    "        for child_bag_type in child_bags_info[:-1].split(\",\"):\n",
    "            if child_bag_type[-1] == \"s\":\n",
    "                child_dict[bag_type].append(child_bag_type[3:-5])\n",
    "            else:\n",
    "                child_dict[bag_type].append(child_bag_type[3:-4])\n",
    "            child_num_dict[bag_type].append(int(child_bag_type[1]))\n",
    "\n",
    "print(get_num_inner_bags(child_dict, child_num_dict, \"shiny gold\"))\n",
    "                \n",
    "f_read.close()"
   ]
  },
  {
   "cell_type": "code",
   "execution_count": 105,
   "metadata": {},
   "outputs": [
    {
     "name": "stdout",
     "output_type": "stream",
     "text": [
      "CPU times: user 3 µs, sys: 1 µs, total: 4 µs\n",
      "Wall time: 5.72 µs\n",
      "2003\n"
     ]
    }
   ],
   "source": [
    "# Day 8: Handheld Halting - Part 1\n",
    "\n",
    "%time\n",
    "\n",
    "instructions_list = []\n",
    "positions_list = []\n",
    "\n",
    "accumulator = 0\n",
    "position = 0\n",
    "\n",
    "def execute_instruction(position, instruction, accumulator):\n",
    "    if instruction[0] == \"nop\":\n",
    "        position = position + 1\n",
    "    elif instruction[0] == \"acc\":\n",
    "        position = position + 1\n",
    "        if instruction[1][0] == \"+\":\n",
    "            accumulator = accumulator + int(instruction[1][1:])\n",
    "        elif instruction[1][0] == \"-\":\n",
    "            accumulator = accumulator - int(instruction[1][1:])\n",
    "        else:\n",
    "            raise Exception(\"The sign for the accumulator needs to be + or -\")\n",
    "    elif instruction[0] == \"jmp\":\n",
    "        if instruction[1][0] == \"+\":\n",
    "            position = position + int(instruction[1][1:])\n",
    "        elif instruction[1][0] == \"-\":\n",
    "            position = position - int(instruction[1][1:])\n",
    "        else:\n",
    "            raise Exception(\"The sign for the jump needs to be + or -\")\n",
    "    else:\n",
    "        raise Exception(\"Unrecognized operation\")\n",
    "    \n",
    "    return position, accumulator\n",
    "        \n",
    "f_read = open(\"boot_code.txt\", \"r\")\n",
    "for line in f_read:\n",
    "    instructions_list.append(line.rstrip().split())\n",
    "f_read.close()\n",
    "\n",
    "for element in instructions_list:\n",
    "    positions_list.append(position)\n",
    "    position, accumulator = execute_instruction(position, instructions_list[position], accumulator)\n",
    "    if position in positions_list:\n",
    "        break\n",
    "    \n",
    "print(accumulator)"
   ]
  },
  {
   "cell_type": "code",
   "execution_count": 37,
   "metadata": {},
   "outputs": [
    {
     "name": "stdout",
     "output_type": "stream",
     "text": [
      "CPU times: user 4 µs, sys: 1 µs, total: 5 µs\n",
      "Wall time: 7.15 µs\n",
      "0\n",
      "1\n",
      "1\n",
      "1\n",
      "6\n",
      "1\n",
      "1\n"
     ]
    },
    {
     "ename": "IndexError",
     "evalue": "list index out of range",
     "output_type": "error",
     "traceback": [
      "\u001b[0;31m---------------------------------------------------------------------------\u001b[0m",
      "\u001b[0;31mIndexError\u001b[0m                                Traceback (most recent call last)",
      "\u001b[0;32m<ipython-input-37-a3b6dafc6e67>\u001b[0m in \u001b[0;36m<module>\u001b[0;34m\u001b[0m\n\u001b[1;32m     55\u001b[0m     \u001b[0;32mfor\u001b[0m \u001b[0melement\u001b[0m \u001b[0;32min\u001b[0m \u001b[0mnew_instructions_list\u001b[0m\u001b[0;34m:\u001b[0m\u001b[0;34m\u001b[0m\u001b[0;34m\u001b[0m\u001b[0m\n\u001b[1;32m     56\u001b[0m         \u001b[0mpositions_list\u001b[0m\u001b[0;34m.\u001b[0m\u001b[0mappend\u001b[0m\u001b[0;34m(\u001b[0m\u001b[0mposition\u001b[0m\u001b[0;34m)\u001b[0m\u001b[0;34m\u001b[0m\u001b[0;34m\u001b[0m\u001b[0m\n\u001b[0;32m---> 57\u001b[0;31m         \u001b[0mposition\u001b[0m\u001b[0;34m,\u001b[0m \u001b[0maccumulator\u001b[0m \u001b[0;34m=\u001b[0m \u001b[0mexecute_instruction\u001b[0m\u001b[0;34m(\u001b[0m\u001b[0mposition\u001b[0m\u001b[0;34m,\u001b[0m \u001b[0mnew_instructions_list\u001b[0m\u001b[0;34m[\u001b[0m\u001b[0mposition\u001b[0m\u001b[0;34m]\u001b[0m\u001b[0;34m,\u001b[0m \u001b[0maccumulator\u001b[0m\u001b[0;34m)\u001b[0m\u001b[0;34m\u001b[0m\u001b[0;34m\u001b[0m\u001b[0m\n\u001b[0m\u001b[1;32m     58\u001b[0m         \u001b[0;32mif\u001b[0m \u001b[0mposition\u001b[0m \u001b[0;32min\u001b[0m \u001b[0mpositions_list\u001b[0m\u001b[0;34m:\u001b[0m\u001b[0;34m\u001b[0m\u001b[0;34m\u001b[0m\u001b[0m\n\u001b[1;32m     59\u001b[0m             \u001b[0;32mbreak\u001b[0m\u001b[0;34m\u001b[0m\u001b[0;34m\u001b[0m\u001b[0m\n",
      "\u001b[0;31mIndexError\u001b[0m: list index out of range"
     ]
    }
   ],
   "source": [
    "# Day 8: Handheld Halting - Part 2\n",
    "\n",
    "%time\n",
    "\n",
    "import copy\n",
    "\n",
    "instructions_list = []\n",
    "positions_list = []\n",
    "\n",
    "accumulator = 0\n",
    "position = 0\n",
    "\n",
    "def execute_instruction(position, instruction, accumulator):\n",
    "    if instruction[0] == \"nop\":\n",
    "        position = position + 1\n",
    "    elif instruction[0] == \"acc\":\n",
    "        position = position + 1\n",
    "        if instruction[1][0] == \"+\":\n",
    "            accumulator = accumulator + int(instruction[1][1:])\n",
    "        elif instruction[1][0] == \"-\":\n",
    "            accumulator = accumulator - int(instruction[1][1:])\n",
    "        else:\n",
    "            raise Exception(\"The sign for the accumulator needs to be + or -\")\n",
    "    elif instruction[0] == \"jmp\":\n",
    "        if instruction[1][0] == \"+\":\n",
    "            position = position + int(instruction[1][1:])\n",
    "        elif instruction[1][0] == \"-\":\n",
    "            position = position - int(instruction[1][1:])\n",
    "        else:\n",
    "            raise Exception(\"The sign for the jump needs to be + or -\")\n",
    "    else:\n",
    "        raise Exception(\"Unrecognized operation\")\n",
    "    \n",
    "    return position, accumulator\n",
    "\n",
    "def change_instructions(instructions_list, position):\n",
    "    new_instructions_list = copy.deepcopy(instructions_list)\n",
    "    if instructions_list[position][0] == 'nop':\n",
    "        new_instructions_list[position][0] = 'jmp'\n",
    "    elif instructions_list[position][0] == 'jmp':\n",
    "        new_instructions_list[position][0] = 'nop'\n",
    "    return new_instructions_list       \n",
    "\n",
    "\n",
    "f_read = open(\"boot_code_test.txt\", \"r\")\n",
    "for line in f_read:\n",
    "    instructions_list.append(line.rstrip().split())\n",
    "f_read.close()\n",
    "\n",
    "for i in range(0,len(instructions_list)):\n",
    "    positions_list = []\n",
    "    position = 0\n",
    "    accumulator = 0\n",
    "    new_instructions_list = change_instructions(instructions_list, i)\n",
    "    for element in new_instructions_list:\n",
    "        positions_list.append(position)\n",
    "        position, accumulator = execute_instruction(position, new_instructions_list[position], accumulator)\n",
    "        if position in positions_list:\n",
    "            break\n",
    "\n",
    "    print(position)\n",
    "    if position == len(instructions_list):\n",
    "        #print(positions_list, accumulator)\n",
    "        break\n"
   ]
  },
  {
   "cell_type": "code",
   "execution_count": 25,
   "metadata": {},
   "outputs": [
    {
     "name": "stdout",
     "output_type": "stream",
     "text": [
      "[1, 2, 3, 4, 5] [1, 2, 3, 7, 5]\n"
     ]
    }
   ],
   "source": [
    "a = [1,2,3,4,5]\n",
    "b = list.copy(a)\n",
    "b[3] = 7\n",
    "print(a, b)"
   ]
  },
  {
   "cell_type": "code",
   "execution_count": null,
   "metadata": {},
   "outputs": [],
   "source": []
  },
  {
   "cell_type": "code",
   "execution_count": null,
   "metadata": {},
   "outputs": [],
   "source": []
  },
  {
   "cell_type": "code",
   "execution_count": null,
   "metadata": {},
   "outputs": [],
   "source": []
  },
  {
   "cell_type": "code",
   "execution_count": null,
   "metadata": {},
   "outputs": [],
   "source": []
  },
  {
   "cell_type": "code",
   "execution_count": null,
   "metadata": {},
   "outputs": [],
   "source": [
    "# Day :  - Part \n",
    "\n",
    "%time\n",
    "\n",
    "f_read = open(\"\", \"r\")\n",
    "\n",
    "f_read.close()"
   ]
  }
 ],
 "metadata": {
  "kernelspec": {
   "display_name": "Python 3",
   "language": "python",
   "name": "python3"
  },
  "language_info": {
   "codemirror_mode": {
    "name": "ipython",
    "version": 3
   },
   "file_extension": ".py",
   "mimetype": "text/x-python",
   "name": "python",
   "nbconvert_exporter": "python",
   "pygments_lexer": "ipython3",
   "version": "3.7.4"
  }
 },
 "nbformat": 4,
 "nbformat_minor": 2
}
